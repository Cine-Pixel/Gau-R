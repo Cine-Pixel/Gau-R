{
 "cells": [
  {
   "cell_type": "markdown",
   "id": "edb965ff-511d-482e-9261-6fafb3339ee2",
   "metadata": {},
   "source": [
    "# Florida student survey"
   ]
  },
  {
   "cell_type": "code",
   "execution_count": 7,
   "id": "43ae8075-5f90-4519-84e5-a45c616a8544",
   "metadata": {},
   "outputs": [],
   "source": [
    "survey <- read.csv(\"datasets/fl_student_survey.csv\", header=TRUE, sep=\",\", dec=\".\")"
   ]
  },
  {
   "cell_type": "code",
   "execution_count": 8,
   "id": "79959703-9b50-40a0-9788-9dbaddfe2dac",
   "metadata": {},
   "outputs": [
    {
     "data": {
      "text/html": [
       "<table class=\"dataframe\">\n",
       "<caption>A data.frame: 6 × 18</caption>\n",
       "<thead>\n",
       "\t<tr><th></th><th scope=col>subject</th><th scope=col>gender</th><th scope=col>age</th><th scope=col>high_sch_GPA</th><th scope=col>college_GPA</th><th scope=col>distance_home</th><th scope=col>distance_residence</th><th scope=col>TV</th><th scope=col>sports</th><th scope=col>newspapers</th><th scope=col>AIDS</th><th scope=col>vegetarian</th><th scope=col>political_affiliation</th><th scope=col>political_ideology</th><th scope=col>religiosity</th><th scope=col>abortion_legalize</th><th scope=col>affirmative_action_support</th><th scope=col>life_after_death</th></tr>\n",
       "\t<tr><th></th><th scope=col>&lt;int&gt;</th><th scope=col>&lt;chr&gt;</th><th scope=col>&lt;int&gt;</th><th scope=col>&lt;dbl&gt;</th><th scope=col>&lt;dbl&gt;</th><th scope=col>&lt;int&gt;</th><th scope=col>&lt;dbl&gt;</th><th scope=col>&lt;dbl&gt;</th><th scope=col>&lt;int&gt;</th><th scope=col>&lt;int&gt;</th><th scope=col>&lt;int&gt;</th><th scope=col>&lt;chr&gt;</th><th scope=col>&lt;chr&gt;</th><th scope=col>&lt;int&gt;</th><th scope=col>&lt;int&gt;</th><th scope=col>&lt;chr&gt;</th><th scope=col>&lt;chr&gt;</th><th scope=col>&lt;chr&gt;</th></tr>\n",
       "</thead>\n",
       "<tbody>\n",
       "\t<tr><th scope=row>1</th><td>1</td><td>m</td><td>32</td><td>2.2</td><td>3.5</td><td>   0</td><td> 5.0</td><td> 3</td><td>5</td><td>0</td><td>0</td><td>n</td><td>r</td><td>6</td><td>2</td><td>n</td><td>n</td><td>y</td></tr>\n",
       "\t<tr><th scope=row>2</th><td>2</td><td>f</td><td>23</td><td>2.1</td><td>3.5</td><td>1200</td><td> 0.3</td><td>15</td><td>7</td><td>5</td><td>6</td><td>y</td><td>d</td><td>2</td><td>1</td><td>y</td><td>y</td><td>u</td></tr>\n",
       "\t<tr><th scope=row>3</th><td>3</td><td>f</td><td>27</td><td>3.3</td><td>3.0</td><td>1300</td><td> 1.5</td><td> 0</td><td>4</td><td>3</td><td>0</td><td>y</td><td>d</td><td>2</td><td>2</td><td>y</td><td>y</td><td>u</td></tr>\n",
       "\t<tr><th scope=row>4</th><td>4</td><td>f</td><td>35</td><td>3.5</td><td>3.2</td><td>1500</td><td> 8.0</td><td> 5</td><td>5</td><td>6</td><td>3</td><td>n</td><td>i</td><td>4</td><td>1</td><td>y</td><td>y</td><td>n</td></tr>\n",
       "\t<tr><th scope=row>5</th><td>5</td><td>m</td><td>23</td><td>3.1</td><td>3.5</td><td>1600</td><td>10.0</td><td> 6</td><td>6</td><td>3</td><td>0</td><td>n</td><td>i</td><td>1</td><td>0</td><td>y</td><td>n</td><td>n</td></tr>\n",
       "\t<tr><th scope=row>6</th><td>6</td><td>m</td><td>39</td><td>3.5</td><td>3.5</td><td> 350</td><td> 3.0</td><td> 4</td><td>5</td><td>7</td><td>0</td><td>y</td><td>d</td><td>2</td><td>1</td><td>y</td><td>y</td><td>u</td></tr>\n",
       "</tbody>\n",
       "</table>\n"
      ],
      "text/latex": [
       "A data.frame: 6 × 18\n",
       "\\begin{tabular}{r|llllllllllllllllll}\n",
       "  & subject & gender & age & high\\_sch\\_GPA & college\\_GPA & distance\\_home & distance\\_residence & TV & sports & newspapers & AIDS & vegetarian & political\\_affiliation & political\\_ideology & religiosity & abortion\\_legalize & affirmative\\_action\\_support & life\\_after\\_death\\\\\n",
       "  & <int> & <chr> & <int> & <dbl> & <dbl> & <int> & <dbl> & <dbl> & <int> & <int> & <int> & <chr> & <chr> & <int> & <int> & <chr> & <chr> & <chr>\\\\\n",
       "\\hline\n",
       "\t1 & 1 & m & 32 & 2.2 & 3.5 &    0 &  5.0 &  3 & 5 & 0 & 0 & n & r & 6 & 2 & n & n & y\\\\\n",
       "\t2 & 2 & f & 23 & 2.1 & 3.5 & 1200 &  0.3 & 15 & 7 & 5 & 6 & y & d & 2 & 1 & y & y & u\\\\\n",
       "\t3 & 3 & f & 27 & 3.3 & 3.0 & 1300 &  1.5 &  0 & 4 & 3 & 0 & y & d & 2 & 2 & y & y & u\\\\\n",
       "\t4 & 4 & f & 35 & 3.5 & 3.2 & 1500 &  8.0 &  5 & 5 & 6 & 3 & n & i & 4 & 1 & y & y & n\\\\\n",
       "\t5 & 5 & m & 23 & 3.1 & 3.5 & 1600 & 10.0 &  6 & 6 & 3 & 0 & n & i & 1 & 0 & y & n & n\\\\\n",
       "\t6 & 6 & m & 39 & 3.5 & 3.5 &  350 &  3.0 &  4 & 5 & 7 & 0 & y & d & 2 & 1 & y & y & u\\\\\n",
       "\\end{tabular}\n"
      ],
      "text/markdown": [
       "\n",
       "A data.frame: 6 × 18\n",
       "\n",
       "| <!--/--> | subject &lt;int&gt; | gender &lt;chr&gt; | age &lt;int&gt; | high_sch_GPA &lt;dbl&gt; | college_GPA &lt;dbl&gt; | distance_home &lt;int&gt; | distance_residence &lt;dbl&gt; | TV &lt;dbl&gt; | sports &lt;int&gt; | newspapers &lt;int&gt; | AIDS &lt;int&gt; | vegetarian &lt;chr&gt; | political_affiliation &lt;chr&gt; | political_ideology &lt;int&gt; | religiosity &lt;int&gt; | abortion_legalize &lt;chr&gt; | affirmative_action_support &lt;chr&gt; | life_after_death &lt;chr&gt; |\n",
       "|---|---|---|---|---|---|---|---|---|---|---|---|---|---|---|---|---|---|---|\n",
       "| 1 | 1 | m | 32 | 2.2 | 3.5 |    0 |  5.0 |  3 | 5 | 0 | 0 | n | r | 6 | 2 | n | n | y |\n",
       "| 2 | 2 | f | 23 | 2.1 | 3.5 | 1200 |  0.3 | 15 | 7 | 5 | 6 | y | d | 2 | 1 | y | y | u |\n",
       "| 3 | 3 | f | 27 | 3.3 | 3.0 | 1300 |  1.5 |  0 | 4 | 3 | 0 | y | d | 2 | 2 | y | y | u |\n",
       "| 4 | 4 | f | 35 | 3.5 | 3.2 | 1500 |  8.0 |  5 | 5 | 6 | 3 | n | i | 4 | 1 | y | y | n |\n",
       "| 5 | 5 | m | 23 | 3.1 | 3.5 | 1600 | 10.0 |  6 | 6 | 3 | 0 | n | i | 1 | 0 | y | n | n |\n",
       "| 6 | 6 | m | 39 | 3.5 | 3.5 |  350 |  3.0 |  4 | 5 | 7 | 0 | y | d | 2 | 1 | y | y | u |\n",
       "\n"
      ],
      "text/plain": [
       "  subject gender age high_sch_GPA college_GPA distance_home distance_residence\n",
       "1 1       m      32  2.2          3.5            0           5.0              \n",
       "2 2       f      23  2.1          3.5         1200           0.3              \n",
       "3 3       f      27  3.3          3.0         1300           1.5              \n",
       "4 4       f      35  3.5          3.2         1500           8.0              \n",
       "5 5       m      23  3.1          3.5         1600          10.0              \n",
       "6 6       m      39  3.5          3.5          350           3.0              \n",
       "  TV sports newspapers AIDS vegetarian political_affiliation political_ideology\n",
       "1  3 5      0          0    n          r                     6                 \n",
       "2 15 7      5          6    y          d                     2                 \n",
       "3  0 4      3          0    y          d                     2                 \n",
       "4  5 5      6          3    n          i                     4                 \n",
       "5  6 6      3          0    n          i                     1                 \n",
       "6  4 5      7          0    y          d                     2                 \n",
       "  religiosity abortion_legalize affirmative_action_support life_after_death\n",
       "1 2           n                 n                          y               \n",
       "2 1           y                 y                          u               \n",
       "3 2           y                 y                          u               \n",
       "4 1           y                 y                          n               \n",
       "5 0           y                 n                          n               \n",
       "6 1           y                 y                          u               "
      ]
     },
     "metadata": {},
     "output_type": "display_data"
    }
   ],
   "source": [
    "head(survey)"
   ]
  },
  {
   "cell_type": "markdown",
   "id": "c241816d-47f7-4611-bbc6-8ebe2bc44710",
   "metadata": {},
   "source": [
    "# header\n",
    "\n",
    "$$\\lim_{x\\to\\infty} {\\frac{x}{2}}$$"
   ]
  },
  {
   "cell_type": "code",
   "execution_count": 19,
   "id": "6bcb6ff4-f115-4e6b-9df5-3c3533334a33",
   "metadata": {},
   "outputs": [
    {
     "data": {
      "text/html": [
       "1.412680756396"
      ],
      "text/latex": [
       "1.412680756396"
      ],
      "text/markdown": [
       "1.412680756396"
      ],
      "text/plain": [
       "[1] 1.412681"
      ]
     },
     "metadata": {},
     "output_type": "display_data"
    }
   ],
   "source": [
    "mean(survey[survey$gender == 'm',]$age) - mean(survey[survey$gender == 'f',]$age)"
   ]
  },
  {
   "cell_type": "code",
   "execution_count": 21,
   "id": "c65f362a-5ba2-45d0-bc6d-7279fef93c87",
   "metadata": {},
   "outputs": [
    {
     "data": {
      "image/png": "[encoded data removed]",
      "text/plain": [
       "Plot with title \"Histogram of survey$age\""
      ]
     },
     "metadata": {
      "image/png": {
       "height": 420,
       "width": 420
      }
     },
     "output_type": "display_data"
    }
   ],
   "source": [
    "hist(survey$age)"
   ]
  }
 ],
 "metadata": {
  "kernelspec": {
   "display_name": "R",
   "language": "R",
   "name": "ir"
  },
  "language_info": {
   "codemirror_mode": "r",
   "file_extension": ".r",
   "mimetype": "text/x-r-source",
   "name": "R",
   "pygments_lexer": "r",
   "version": "4.1.1"
  }
 },
 "nbformat": 4,
 "nbformat_minor": 5
}
